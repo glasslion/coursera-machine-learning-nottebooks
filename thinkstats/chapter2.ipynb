{
 "cells": [
  {
   "cell_type": "markdown",
   "metadata": {},
   "source": [
    "# Chapter 2  Distributions"
   ]
  },
  {
   "cell_type": "markdown",
   "metadata": {},
   "source": [
    "## Histograms\n",
    "The most common representation of a distribution is a histogram. which is a graph that shows the **frequency** of each value\n"
   ]
  },
  {
   "cell_type": "code",
   "execution_count": 35,
   "metadata": {
    "collapsed": false
   },
   "outputs": [
    {
     "data": {
      "text/plain": [
       "Hist({1: 1, 2: 2, 3: 1, 5: 1})"
      ]
     },
     "execution_count": 35,
     "metadata": {},
     "output_type": "execute_result"
    }
   ],
   "source": [
    "hist = thinkstats2.Hist([1, 2, 2, 3, 5])\n",
    "hist"
   ]
  },
  {
   "cell_type": "code",
   "execution_count": 4,
   "metadata": {
    "collapsed": false
   },
   "outputs": [
    {
     "data": {
      "text/plain": [
       "2"
      ]
     },
     "execution_count": 4,
     "metadata": {},
     "output_type": "execute_result"
    }
   ],
   "source": [
    "hist.Freq(2) # hist[2]"
   ]
  },
  {
   "cell_type": "code",
   "execution_count": 5,
   "metadata": {
    "collapsed": false
   },
   "outputs": [
    {
     "data": {
      "text/plain": [
       "[1, 2, 3, 5]"
      ]
     },
     "execution_count": 5,
     "metadata": {},
     "output_type": "execute_result"
    }
   ],
   "source": [
    "hist.Values()"
   ]
  },
  {
   "cell_type": "code",
   "execution_count": 36,
   "metadata": {
    "collapsed": false
   },
   "outputs": [
    {
     "data": {
      "image/png": "[encoded data removed]",
      "text/plain": [
       "<matplotlib.figure.Figure at 0x7f15101c1f50>"
      ]
     },
     "metadata": {},
     "output_type": "display_data"
    },
    {
     "data": {
      "text/plain": [
       "<matplotlib.figure.Figure at 0x7f150fe8ccd0>"
      ]
     },
     "metadata": {},
     "output_type": "display_data"
    }
   ],
   "source": [
    "thinkplot.Hist(hist)\n",
    "thinkplot.Show(xlabel='value', ylabel='frequency')\n"
   ]
  },
  {
   "cell_type": "markdown",
   "metadata": {},
   "source": [
    "## NSFG variables"
   ]
  },
  {
   "cell_type": "code",
   "execution_count": 12,
   "metadata": {
    "collapsed": true
   },
   "outputs": [],
   "source": [
    "import nsfg"
   ]
  },
  {
   "cell_type": "markdown",
   "metadata": {},
   "source": [
    "Histogram of pregnancy length in weeks"
   ]
  },
  {
   "cell_type": "code",
   "execution_count": 33,
   "metadata": {
    "collapsed": false,
    "scrolled": true
   },
   "outputs": [
    {
     "data": {
      "image/png": "[encoded data removed]",
      "text/plain": [
       "<matplotlib.figure.Figure at 0x7f151d07ee90>"
      ]
     },
     "metadata": {},
     "output_type": "display_data"
    },
    {
     "data": {
      "text/plain": [
       "<matplotlib.figure.Figure at 0x7f151d06be50>"
      ]
     },
     "metadata": {},
     "output_type": "display_data"
    }
   ],
   "source": [
    "preg = nsfg.ReadFemPreg()\n",
    "live = preg[preg.outcome == 1]\n",
    "\n",
    "hist = thinkstats2.Hist(live.birthwgt_lb, label='birthwgt_lb')\n",
    "thinkplot.Hist(hist)\n",
    "thinkplot.Show(xlabel='pounds', ylabel='frequency')\n"
   ]
  },
  {
   "cell_type": "markdown",
   "metadata": {},
   "source": [
    "Histogram of pregnancy lengths"
   ]
  },
  {
   "cell_type": "code",
   "execution_count": 69,
   "metadata": {
    "collapsed": false
   },
   "outputs": [
    {
     "data": {
      "text/plain": [
       "<matplotlib.axes._subplots.AxesSubplot at 0x7f150d4e3890>"
      ]
     },
     "execution_count": 69,
     "metadata": {},
     "output_type": "execute_result"
    },
    {
     "data": {
      "image/png": "[encoded data removed]",
      "text/plain": [
       "<matplotlib.figure.Figure at 0x7f150d59c610>"
      ]
     },
     "metadata": {},
     "output_type": "display_data"
    }
   ],
   "source": [
    "firsts = live[live.birthord == 1]\n",
    "others = live[live.birthord != 1]\n",
    "firsts.prglngth.plot(kind='hist', width=2)\n",
    "others.prglngth.plot(kind='hist', width=2)\n"
   ]
  },
  {
   "cell_type": "markdown",
   "metadata": {},
   "source": [
    "## Summarizing distributions"
   ]
  },
  {
   "cell_type": "markdown",
   "metadata": {},
   "source": [
    "Some of the characteristics we might want to report are:\n",
    "- central tendency\n",
    "- modes\n",
    "- spread\n",
    "- tails\n",
    "- outliers\n"
   ]
  },
  {
   "cell_type": "markdown",
   "metadata": {},
   "source": [
    "## mean\n",
    "\n",
    "$$\\overline{x}= \\frac{1}{n}\\sum_{i}a_i$$\n",
    "\n",
    "## Variance\n",
    "\n",
    "$$S^{2} = \\frac{1}{n}\\sum_i(x_{i}-\\overline{x})^{2}$$\n",
    "\n",
    "$x_{i}-\\overline{x}$ is called the “deviation from the mean”\n",
    "\n",
    "$\\sqrt{S}$ is the **standard deviation**.\n",
    "\n",
    "Pandas data structures provides methods to compute mean, variance and standard deviation:\n",
    "```python\n",
    "mean = live.prglngth.mean()\n",
    "var = live.prglngth.var() # variance\n",
    "std = live.prglngth.std() # standard deviation\n",
    "\n",
    "```"
   ]
  },
  {
   "cell_type": "markdown",
   "metadata": {},
   "source": [
    "## Effect size\n",
    "\n",
    "An effect size is a quantitative measure of the strength of an event.\n",
    "\n",
    "One obvious choice is the difference in the means.\n",
    "Another way to convey the size of the effect is to compare the difference between groups to the variability within groups.\n",
    "\n",
    "**Cohen's d**\n",
    "$$d = \\frac{\\overline{x_1} -\\overline{x_2}}{s}$$\n",
    "\n",
    "s is the “pooled standard deviation”\n",
    "\n",
    "$$s=\\sqrt{\\frac{(n_1-1)S_1^2 + (n_2-1)S_2^2}{n_1 +n_2 -2}}$$\n",
    "$n_i$ is the sample size of $x_i$, $S_i$ is the variance."
   ]
  },
  {
   "cell_type": "markdown",
   "metadata": {},
   "source": [
    "## Reporting results\n",
    "\n",
    "- **Who**\n",
    "  - A scientist might be interested in any (real) effect, no matter how small.\n",
    "  - A doctor might only care about effects that are clinically significant.\n",
    "- **How**\n",
    "  - Goals"
   ]
  },
  {
   "cell_type": "markdown",
   "metadata": {},
   "source": [
    "## Exercise2"
   ]
  },
  {
   "cell_type": "code",
   "execution_count": 94,
   "metadata": {
    "collapsed": false
   },
   "outputs": [],
   "source": [
    "import thinkstats2\n",
    "resp = thinkstats2.ReadStataDct('2002FemResp.dct').ReadFixedWidth('2002FemResp.dat.gz', compression='gzip')"
   ]
  },
  {
   "cell_type": "markdown",
   "metadata": {},
   "source": [
    "Make a histogram of totincr the total income for the respondent's family. "
   ]
  },
  {
   "cell_type": "code",
   "execution_count": 115,
   "metadata": {
    "collapsed": false
   },
   "outputs": [
    {
     "data": {
      "text/plain": [
       "<matplotlib.axes._subplots.AxesSubplot at 0x7f1504ae3b10>"
      ]
     },
     "execution_count": 115,
     "metadata": {},
     "output_type": "execute_result"
    },
    {
     "data": {
      "image/png": "[encoded data removed]",
      "text/plain": [
       "<matplotlib.figure.Figure at 0x7f1504a04f50>"
      ]
     },
     "metadata": {},
     "output_type": "display_data"
    }
   ],
   "source": [
    "resp.totincr.plot.hist(bins=range(17))"
   ]
  },
  {
   "cell_type": "markdown",
   "metadata": {},
   "source": [
    "Make a histogram of age_r, the respondent's age at the time of interview."
   ]
  },
  {
   "cell_type": "code",
   "execution_count": 122,
   "metadata": {
    "collapsed": false
   },
   "outputs": [
    {
     "data": {
      "text/plain": [
       "<matplotlib.axes._subplots.AxesSubplot at 0x7f1504455d10>"
      ]
     },
     "execution_count": 122,
     "metadata": {},
     "output_type": "execute_result"
    },
    {
     "data": {
      "image/png": "[encoded data removed]",
      "text/plain": [
       "<matplotlib.figure.Figure at 0x7f15043fa850>"
      ]
     },
     "metadata": {},
     "output_type": "display_data"
    }
   ],
   "source": [
    "resp.ager.plot.hist(bins=range(15,46))"
   ]
  },
  {
   "cell_type": "markdown",
   "metadata": {},
   "source": [
    "Use totincr to select the respondents with the highest income. Compute the distribution of parity for just the high income respondents."
   ]
  },
  {
   "cell_type": "code",
   "execution_count": 132,
   "metadata": {
    "collapsed": false
   },
   "outputs": [
    {
     "data": {
      "text/plain": [
       "<matplotlib.axes._subplots.AxesSubplot at 0x7f15040a8750>"
      ]
     },
     "execution_count": 132,
     "metadata": {},
     "output_type": "execute_result"
    },
    {
     "data": {
      "image/png": "[encoded data removed]",
      "text/plain": [
       "<matplotlib.figure.Figure at 0x7f150414a810>"
      ]
     },
     "metadata": {},
     "output_type": "display_data"
    }
   ],
   "source": [
    "rich = resp[resp.totincr == resp.totincr.max() ]\n",
    "rich.parity.plot.hist(bins=range(10))"
   ]
  },
  {
   "cell_type": "markdown",
   "metadata": {},
   "source": [
    "Compare the mean parity for high income respondents and others."
   ]
  },
  {
   "cell_type": "code",
   "execution_count": 134,
   "metadata": {
    "collapsed": false
   },
   "outputs": [
    {
     "data": {
      "text/plain": [
       "(1.0758620689655172, 1.2495758136665125)"
      ]
     },
     "execution_count": 134,
     "metadata": {},
     "output_type": "execute_result"
    }
   ],
   "source": [
    "rich = resp[resp.totincr == resp.totincr.max() ]\n",
    "notrich = resp[resp.totincr < resp.totincr.max()]\n",
    "rich.parity.mean(), notrich.parity.mean()"
   ]
  },
  {
   "cell_type": "markdown",
   "metadata": {},
   "source": [
    "## Glossary\n",
    "- **distribution**: The values that appear in a sample and the frequency of each.\n",
    "- **histogram**: A mapping from values to frequencies, or a graph that shows this mapping.\n",
    "- **frequency**: The number of times a value appears in a sample.\n",
    "- **mode**: The most frequent value in a sample, or one of the most frequent values.\n",
    "- **normal distribution**: An idealization of a bell-shaped distribution; also known as a Gaussian distribution.\n",
    "- **uniform distribution**: A distribution in which all values have the same frequency.\n",
    "- **tail**: The part of a distribution at the high and low extremes.\n",
    "- **central tendency**: A characteristic of a sample or population; intuitively, it is an average or typical value.\n",
    "- **outlier**: A value far from the central tendency.\n",
    "- **spread**: A measure of how spread out the values in a distribution are.\n",
    "- **summary statistic**: A statistic that quantifies some aspect of a distribution, like central tendency or spread.\n",
    "- **variance**: A summary statistic often used to quantify spread.\n",
    "- **standard deviation**: The square root of variance, also used as a measure of spread.\n",
    "- **effect size**: A summary statistic intended to quantify the size of an effect like a difference between groups.\n",
    "- **clinically significant**: A result, like a difference between groups, that is relevant in practice."
   ]
  }
 ],
 "metadata": {
  "kernelspec": {
   "display_name": "Python 2",
   "language": "python",
   "name": "python2"
  },
  "language_info": {
   "codemirror_mode": {
    "name": "ipython",
    "version": 2
   },
   "file_extension": ".py",
   "mimetype": "text/x-python",
   "name": "python",
   "nbconvert_exporter": "python",
   "pygments_lexer": "ipython2",
   "version": "2.7.11"
  }
 },
 "nbformat": 4,
 "nbformat_minor": 0
}
