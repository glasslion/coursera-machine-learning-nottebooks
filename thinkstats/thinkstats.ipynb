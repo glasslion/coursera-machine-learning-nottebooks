{
 "cells": [
  {
   "cell_type": "markdown",
   "metadata": {},
   "source": [
    "# Chapter 1  Exploratory data analysis\n",
    "\n",
    "Anecdotal evidence usually fails, because:\n",
    "- Small number of observations\n",
    "- Selection bias\n",
    "- Confirmation bias\n",
    "- Inaccuracy\n",
    "\n",
    "To address the limitations of anecdotes, we will use the tools of statistics, which include:\n",
    "- Data collection\n",
    "  - large data\n",
    "  - valid data\n",
    "- Descriptive statistics\n",
    "  - summary statistics\n",
    "  - visualization\n",
    "- Exploratory data analysis\n",
    "  - patterns\n",
    "  - differences\n",
    "  - inconsistencies & limitations\n",
    "- Estimation\n",
    "  - sample, population\n",
    "- Hypothesis testing\n",
    "  - group"
   ]
  }
 ],
 "metadata": {
  "kernelspec": {
   "display_name": "Python 2",
   "language": "python",
   "name": "python2"
  },
  "language_info": {
   "codemirror_mode": {
    "name": "ipython",
    "version": 2
   },
   "file_extension": ".py",
   "mimetype": "text/x-python",
   "name": "python",
   "nbconvert_exporter": "python",
   "pygments_lexer": "ipython2",
   "version": "2.7.11"
  }
 },
 "nbformat": 4,
 "nbformat_minor": 0
}
